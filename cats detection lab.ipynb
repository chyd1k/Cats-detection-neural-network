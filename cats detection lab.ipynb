{
 "cells": [
  {
   "cell_type": "code",
   "execution_count": 22,
   "metadata": {},
   "outputs": [],
   "source": [
    "import numpy as np\n",
    "import matplotlib.pyplot as plt\n",
    "from load_datasets import load_dataset"
   ]
  },
  {
   "cell_type": "code",
   "execution_count": 23,
   "metadata": {},
   "outputs": [],
   "source": [
    "def logit(x, w):\n",
    "    return np.dot(x, w)\n",
    "\n",
    "def sigmoid(h):\n",
    "    return 1. / (1 + np.exp(-h))"
   ]
  },
  {
   "cell_type": "code",
   "execution_count": 24,
   "metadata": {},
   "outputs": [],
   "source": [
    "def fit( w, w0, X, y, max_iter, lr, print_cost = False , tolerance = 1e-15, val_freq = 100):\n",
    "    \n",
    "    costs = []\n",
    "    # Add extra feature (x[0] = 1) for bias in linear regression\n",
    "    #X = self.__add_intercept(X)\n",
    "    n_features, n_objects = X.shape\n",
    "\n",
    "    # Initialize randomly\n",
    "    w = np.random.random(n_features)\n",
    "    w = w.reshape(X.shape[0], 1)\n",
    "    w0 = np.random.random(1)\n",
    "\n",
    "    # Iterative gradient descent\n",
    "    print('X shape:{}', format(X.shape))\n",
    "    print('Y shape:{}', format(y.shape))\n",
    "    print('w shape:{}', format(w.shape))\n",
    "    print('w0 shape:{}', format(w0.shape))\n",
    "    z = sigmoid(np.dot(w.T, X) +w0)\n",
    "    print('z shape:{}', format(z.shape))\n",
    "\n",
    "    for i in range(max_iter):\n",
    "\n",
    "        m = X.shape[1]\n",
    "        h = logit(w.T, X) + w0\n",
    "        z = sigmoid(h)\n",
    "\n",
    "        grad = (1. / m) * logit(X, (z - y).T)\n",
    "        grad0 = (1. / m) * np.sum(z - y, axis = 1)\n",
    "        \n",
    "        w -= lr * grad\n",
    "        w0 -= lr * grad0\n",
    "\n",
    "        #terminater proc\n",
    "        if (np.linalg.norm(lr * grad) < tolerance):\n",
    "            print('Converged in {} iterations!'.format(i))\n",
    "            break\n",
    "\n",
    "        if i % val_freq == 0:\n",
    "            # Clip values for numeric stability in logarithm\n",
    "            p = np.clip(z, 1e-10, 1 - 1e-10)\n",
    "            \n",
    "            # Compute log loss and accuracy\n",
    "            ls = np.squeeze((-1. / X.shape[1]) * np.sum((y * np.log(z) + (1 - y) * np.log(1 - z)), axis = 1))\n",
    "            acc = np.mean((p >= 0.5) == y)\n",
    "            costs.append(ls)\n",
    "            \n",
    "            print('Iteration {}: Loss = {}. Accuracy = {}'.format(i, ls, acc))\n",
    "\n",
    "    return w, w0, costs\n",
    "\n",
    "\n",
    "def predict(w, w0, X):\n",
    "    m = X.shape[1]\n",
    "    Y_prediction = np.zeros((1, m))\n",
    "    w = w.reshape(X.shape[0], 1)\n",
    "\n",
    "    # Compute vector 'A' predicting the probabilities of a cat being present in the picture\n",
    "    ### START CODE HERE ### (≈ 1 line of code)\n",
    "    A = sigmoid(np.dot(w.T, X) + w0)\n",
    "    ### END CODE HERE ###\n",
    "\n",
    "    for i in range(A.shape[1]):\n",
    "        # Convert probabilities A[0,i] to actual predictions p[0,i]\n",
    "        ### START CODE HERE ### (≈ 4 lines of code)\n",
    "        Y_prediction[0, i] = np.where(A[0, i] > 0.5, 1, 0)\n",
    "        ### END CODE HERE ###\n",
    "    assert(Y_prediction.shape == (1, m))\n",
    "    return Y_prediction\n",
    "\n",
    "def model(X_train, Y_train, X_test, Y_test, num_iterations = 2000, learning_rate = 0.5, print_cost = False):\n",
    "\n",
    "    w_init = np.zeros(shape=(X_train.shape[0], 1), dtype=np.float32)\n",
    "    w0_init = 0\n",
    "    \n",
    "    # Gradient descent (≈ 1 line of code)   \n",
    "    w, w0, costs = fit(w_init, w0_init, X_train, Y_train, num_iterations, learning_rate, print_cost)\n",
    "\n",
    "    Y_prediction_test = predict(w, w0, X_test)\n",
    "    Y_prediction_train = predict(w, w0, X_train)\n",
    "\n",
    "    return Y_prediction_test, Y_prediction_train, costs #Y_prediction_test, Y_prediction_train, costs"
   ]
  },
  {
   "cell_type": "code",
   "execution_count": 25,
   "metadata": {},
   "outputs": [],
   "source": [
    "train_set_x_orig, train_set_y, test_set_x_orig, test_set_y, classes = load_dataset()"
   ]
  },
  {
   "cell_type": "code",
   "execution_count": 26,
   "metadata": {},
   "outputs": [],
   "source": [
    "m_train = train_set_x_orig.shape[0]\n",
    "m_test = test_set_x_orig.shape[0]\n",
    "num_px = train_set_x_orig.shape[2]"
   ]
  },
  {
   "cell_type": "code",
   "execution_count": 27,
   "metadata": {},
   "outputs": [
    {
     "data": {
      "text/plain": [
       "12288"
      ]
     },
     "execution_count": 27,
     "metadata": {},
     "output_type": "execute_result"
    }
   ],
   "source": [
    "train_set_x_flatten = train_set_x_orig.reshape(train_set_x_orig.shape[0], - 1).T\n",
    "test_set_x_flatten = test_set_x_orig.reshape(test_set_x_orig.shape[0], - 1).T\n",
    "train_set_x = train_set_x_flatten / 255.\n",
    "test_set_x = test_set_x_flatten / 255.\n",
    "\n",
    "len(train_set_x)"
   ]
  },
  {
   "cell_type": "code",
   "execution_count": 28,
   "metadata": {},
   "outputs": [
    {
     "name": "stdout",
     "output_type": "stream",
     "text": [
      "X shape:{} (12288, 209)\n",
      "Y shape:{} (209,)\n",
      "w shape:{} (12288, 1)\n",
      "w0 shape:{} (1,)\n",
      "z shape:{} (1, 209)\n",
      "Iteration 0: Loss = nan. Accuracy = 0.3444976076555024\n"
     ]
    },
    {
     "name": "stderr",
     "output_type": "stream",
     "text": [
      "D:\\Anaconda\\lib\\site-packages\\ipykernel_launcher.py:47: RuntimeWarning: divide by zero encountered in log\n",
      "D:\\Anaconda\\lib\\site-packages\\ipykernel_launcher.py:47: RuntimeWarning: invalid value encountered in multiply\n"
     ]
    },
    {
     "name": "stdout",
     "output_type": "stream",
     "text": [
      "Iteration 100: Loss = nan. Accuracy = 0.3444976076555024\n",
      "Iteration 200: Loss = nan. Accuracy = 0.3444976076555024\n",
      "Iteration 300: Loss = nan. Accuracy = 0.3444976076555024\n",
      "Iteration 400: Loss = nan. Accuracy = 0.6267942583732058\n",
      "Iteration 500: Loss = nan. Accuracy = 0.6411483253588517\n",
      "Iteration 600: Loss = nan. Accuracy = 0.6555023923444976\n",
      "Iteration 700: Loss = nan. Accuracy = 0.6746411483253588\n",
      "Iteration 800: Loss = nan. Accuracy = 0.7272727272727273\n",
      "Iteration 900: Loss = inf. Accuracy = 0.7272727272727273\n",
      "Iteration 1000: Loss = inf. Accuracy = 0.7511961722488039\n",
      "Iteration 1100: Loss = 1.557915781975038. Accuracy = 0.7799043062200957\n",
      "Iteration 1200: Loss = 1.0994501845698899. Accuracy = 0.7799043062200957\n",
      "Iteration 1300: Loss = 0.8391039031903749. Accuracy = 0.8181818181818182\n",
      "Iteration 1400: Loss = 0.7088247877632669. Accuracy = 0.8229665071770335\n",
      "Iteration 1500: Loss = 0.6088535106664379. Accuracy = 0.8277511961722488\n",
      "Iteration 1600: Loss = 0.5259031866938034. Accuracy = 0.8421052631578947\n",
      "Iteration 1700: Loss = 0.4579397240723403. Accuracy = 0.84688995215311\n",
      "Iteration 1800: Loss = 0.4027329234196477. Accuracy = 0.8708133971291866\n",
      "Iteration 1900: Loss = 0.35683353942406615. Accuracy = 0.8851674641148325\n"
     ]
    }
   ],
   "source": [
    "y_predict_test, y_predict_train, costs = model(train_set_x, train_set_y, test_set_x, test_set_y, num_iterations = 2000, learning_rate = 0.005, print_cost = True)"
   ]
  },
  {
   "cell_type": "code",
   "execution_count": 29,
   "metadata": {},
   "outputs": [
    {
     "data": {
      "text/plain": [
       "array([[1, 0, 1, 0, 1, 0, 0, 1, 1, 1, 1, 0, 1, 1, 0, 1, 0, 0, 0, 0, 0, 0,\n",
       "        0, 0, 1, 0, 1, 0, 0, 1, 0, 1, 1, 1, 1, 0, 0, 1, 0, 0, 0, 1, 1, 0,\n",
       "        1, 0, 1, 1, 1, 0]])"
      ]
     },
     "execution_count": 29,
     "metadata": {},
     "output_type": "execute_result"
    }
   ],
   "source": [
    "y_predict_test.astype(int)"
   ]
  },
  {
   "cell_type": "code",
   "execution_count": 30,
   "metadata": {},
   "outputs": [
    {
     "data": {
      "text/plain": [
       "array([1, 1, 1, 1, 1, 0, 1, 1, 1, 1, 1, 1, 1, 0, 0, 1, 0, 1, 1, 1, 1, 0,\n",
       "       0, 1, 1, 1, 1, 0, 1, 0, 1, 1, 1, 1, 0, 0, 0, 1, 0, 0, 1, 1, 1, 0,\n",
       "       0, 0, 1, 1, 1, 0], dtype=int64)"
      ]
     },
     "execution_count": 30,
     "metadata": {},
     "output_type": "execute_result"
    }
   ],
   "source": [
    "test_set_y"
   ]
  },
  {
   "cell_type": "code",
   "execution_count": 31,
   "metadata": {},
   "outputs": [
    {
     "name": "stdout",
     "output_type": "stream",
     "text": [
      "y = 0, you predicted that it is a 'non-cat' picture.\n"
     ]
    },
    {
     "data": {
      "image/png": "[encoded data removed]",
      "text/plain": [
       "<Figure size 432x288 with 1 Axes>"
      ]
     },
     "metadata": {
      "needs_background": "light"
     },
     "output_type": "display_data"
    }
   ],
   "source": [
    "index = 5\n",
    "plt.imshow(test_set_x[:, index].reshape((num_px, num_px, 3)))\n",
    "print ('y = ' + str(test_set_y[index]) + ', you predicted that it is a \\'' + classes[int(y_predict_test[0, index])] +  '\\' picture.')"
   ]
  }
 ],
 "metadata": {
  "kernelspec": {
   "display_name": "Python 3",
   "language": "python",
   "name": "python3"
  },
  "language_info": {
   "codemirror_mode": {
    "name": "ipython",
    "version": 3
   },
   "file_extension": ".py",
   "mimetype": "text/x-python",
   "name": "python",
   "nbconvert_exporter": "python",
   "pygments_lexer": "ipython3",
   "version": "3.7.3"
  }
 },
 "nbformat": 4,
 "nbformat_minor": 2
}
